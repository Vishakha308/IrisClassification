{
  "nbformat": 4,
  "nbformat_minor": 0,
  "metadata": {
    "colab": {
      "provenance": []
    },
    "kernelspec": {
      "name": "python3",
      "display_name": "Python 3"
    },
    "language_info": {
      "name": "python"
    }
  },
  "cells": [
    {
      "cell_type": "code",
      "execution_count": null,
      "metadata": {
        "id": "i6-YFz0-h59O"
      },
      "outputs": [],
      "source": [
        "import pandas as pd\n",
        "import numpy as np\n",
        "import matplotlib.pyplot as plt\n",
        "import seaborn as sns\n",
        "import tensorflow as keras"
      ]
    },
    {
      "cell_type": "markdown",
      "source": [],
      "metadata": {
        "id": "xHBpPGtLnPM0"
      }
    },
    {
      "cell_type": "code",
      "source": [
        "df = pd.read_csv('/content/Irisdataset.csv')\n",
        "df.head()"
      ],
      "metadata": {
        "colab": {
          "base_uri": "https://localhost:8080/",
          "height": 206
        },
        "id": "HF9qDevnibNU",
        "outputId": "4c7ce6cd-e216-4488-dbc9-296f542897b5"
      },
      "execution_count": null,
      "outputs": [
        {
          "output_type": "execute_result",
          "data": {
            "text/plain": [
              "   Id  SepalLengthCm  SepalWidthCm  PetalLengthCm  PetalWidthCm      Species\n",
              "0   1            5.1           3.5            1.4           0.2  Iris-setosa\n",
              "1   2            4.9           3.0            1.4           0.2  Iris-setosa\n",
              "2   3            4.7           3.2            1.3           0.2  Iris-setosa\n",
              "3   4            4.6           3.1            1.5           0.2  Iris-setosa\n",
              "4   5            5.0           3.6            1.4           0.2  Iris-setosa"
            ],
            "text/html": [
              "\n",
              "  <div id=\"df-854e203c-a0ee-4590-913a-99ed112bc321\" class=\"colab-df-container\">\n",
              "    <div>\n",
              "<style scoped>\n",
              "    .dataframe tbody tr th:only-of-type {\n",
              "        vertical-align: middle;\n",
              "    }\n",
              "\n",
              "    .dataframe tbody tr th {\n",
              "        vertical-align: top;\n",
              "    }\n",
              "\n",
              "    .dataframe thead th {\n",
              "        text-align: right;\n",
              "    }\n",
              "</style>\n",
              "<table border=\"1\" class=\"dataframe\">\n",
              "  <thead>\n",
              "    <tr style=\"text-align: right;\">\n",
              "      <th></th>\n",
              "      <th>Id</th>\n",
              "      <th>SepalLengthCm</th>\n",
              "      <th>SepalWidthCm</th>\n",
              "      <th>PetalLengthCm</th>\n",
              "      <th>PetalWidthCm</th>\n",
              "      <th>Species</th>\n",
              "    </tr>\n",
              "  </thead>\n",
              "  <tbody>\n",
              "    <tr>\n",
              "      <th>0</th>\n",
              "      <td>1</td>\n",
              "      <td>5.1</td>\n",
              "      <td>3.5</td>\n",
              "      <td>1.4</td>\n",
              "      <td>0.2</td>\n",
              "      <td>Iris-setosa</td>\n",
              "    </tr>\n",
              "    <tr>\n",
              "      <th>1</th>\n",
              "      <td>2</td>\n",
              "      <td>4.9</td>\n",
              "      <td>3.0</td>\n",
              "      <td>1.4</td>\n",
              "      <td>0.2</td>\n",
              "      <td>Iris-setosa</td>\n",
              "    </tr>\n",
              "    <tr>\n",
              "      <th>2</th>\n",
              "      <td>3</td>\n",
              "      <td>4.7</td>\n",
              "      <td>3.2</td>\n",
              "      <td>1.3</td>\n",
              "      <td>0.2</td>\n",
              "      <td>Iris-setosa</td>\n",
              "    </tr>\n",
              "    <tr>\n",
              "      <th>3</th>\n",
              "      <td>4</td>\n",
              "      <td>4.6</td>\n",
              "      <td>3.1</td>\n",
              "      <td>1.5</td>\n",
              "      <td>0.2</td>\n",
              "      <td>Iris-setosa</td>\n",
              "    </tr>\n",
              "    <tr>\n",
              "      <th>4</th>\n",
              "      <td>5</td>\n",
              "      <td>5.0</td>\n",
              "      <td>3.6</td>\n",
              "      <td>1.4</td>\n",
              "      <td>0.2</td>\n",
              "      <td>Iris-setosa</td>\n",
              "    </tr>\n",
              "  </tbody>\n",
              "</table>\n",
              "</div>\n",
              "    <div class=\"colab-df-buttons\">\n",
              "\n",
              "  <div class=\"colab-df-container\">\n",
              "    <button class=\"colab-df-convert\" onclick=\"convertToInteractive('df-854e203c-a0ee-4590-913a-99ed112bc321')\"\n",
              "            title=\"Convert this dataframe to an interactive table.\"\n",
              "            style=\"display:none;\">\n",
              "\n",
              "  <svg xmlns=\"http://www.w3.org/2000/svg\" height=\"24px\" viewBox=\"0 -960 960 960\">\n",
              "    <path d=\"M120-120v-720h720v720H120Zm60-500h600v-160H180v160Zm220 220h160v-160H400v160Zm0 220h160v-160H400v160ZM180-400h160v-160H180v160Zm440 0h160v-160H620v160ZM180-180h160v-160H180v160Zm440 0h160v-160H620v160Z\"/>\n",
              "  </svg>\n",
              "    </button>\n",
              "\n",
              "  <style>\n",
              "    .colab-df-container {\n",
              "      display:flex;\n",
              "      gap: 12px;\n",
              "    }\n",
              "\n",
              "    .colab-df-convert {\n",
              "      background-color: #E8F0FE;\n",
              "      border: none;\n",
              "      border-radius: 50%;\n",
              "      cursor: pointer;\n",
              "      display: none;\n",
              "      fill: #1967D2;\n",
              "      height: 32px;\n",
              "      padding: 0 0 0 0;\n",
              "      width: 32px;\n",
              "    }\n",
              "\n",
              "    .colab-df-convert:hover {\n",
              "      background-color: #E2EBFA;\n",
              "      box-shadow: 0px 1px 2px rgba(60, 64, 67, 0.3), 0px 1px 3px 1px rgba(60, 64, 67, 0.15);\n",
              "      fill: #174EA6;\n",
              "    }\n",
              "\n",
              "    .colab-df-buttons div {\n",
              "      margin-bottom: 4px;\n",
              "    }\n",
              "\n",
              "    [theme=dark] .colab-df-convert {\n",
              "      background-color: #3B4455;\n",
              "      fill: #D2E3FC;\n",
              "    }\n",
              "\n",
              "    [theme=dark] .colab-df-convert:hover {\n",
              "      background-color: #434B5C;\n",
              "      box-shadow: 0px 1px 3px 1px rgba(0, 0, 0, 0.15);\n",
              "      filter: drop-shadow(0px 1px 2px rgba(0, 0, 0, 0.3));\n",
              "      fill: #FFFFFF;\n",
              "    }\n",
              "  </style>\n",
              "\n",
              "    <script>\n",
              "      const buttonEl =\n",
              "        document.querySelector('#df-854e203c-a0ee-4590-913a-99ed112bc321 button.colab-df-convert');\n",
              "      buttonEl.style.display =\n",
              "        google.colab.kernel.accessAllowed ? 'block' : 'none';\n",
              "\n",
              "      async function convertToInteractive(key) {\n",
              "        const element = document.querySelector('#df-854e203c-a0ee-4590-913a-99ed112bc321');\n",
              "        const dataTable =\n",
              "          await google.colab.kernel.invokeFunction('convertToInteractive',\n",
              "                                                    [key], {});\n",
              "        if (!dataTable) return;\n",
              "\n",
              "        const docLinkHtml = 'Like what you see? Visit the ' +\n",
              "          '<a target=\"_blank\" href=https://colab.research.google.com/notebooks/data_table.ipynb>data table notebook</a>'\n",
              "          + ' to learn more about interactive tables.';\n",
              "        element.innerHTML = '';\n",
              "        dataTable['output_type'] = 'display_data';\n",
              "        await google.colab.output.renderOutput(dataTable, element);\n",
              "        const docLink = document.createElement('div');\n",
              "        docLink.innerHTML = docLinkHtml;\n",
              "        element.appendChild(docLink);\n",
              "      }\n",
              "    </script>\n",
              "  </div>\n",
              "\n",
              "\n",
              "<div id=\"df-34e0a6be-1ab4-4efc-bde2-a11a36a745b4\">\n",
              "  <button class=\"colab-df-quickchart\" onclick=\"quickchart('df-34e0a6be-1ab4-4efc-bde2-a11a36a745b4')\"\n",
              "            title=\"Suggest charts\"\n",
              "            style=\"display:none;\">\n",
              "\n",
              "<svg xmlns=\"http://www.w3.org/2000/svg\" height=\"24px\"viewBox=\"0 0 24 24\"\n",
              "     width=\"24px\">\n",
              "    <g>\n",
              "        <path d=\"M19 3H5c-1.1 0-2 .9-2 2v14c0 1.1.9 2 2 2h14c1.1 0 2-.9 2-2V5c0-1.1-.9-2-2-2zM9 17H7v-7h2v7zm4 0h-2V7h2v10zm4 0h-2v-4h2v4z\"/>\n",
              "    </g>\n",
              "</svg>\n",
              "  </button>\n",
              "\n",
              "<style>\n",
              "  .colab-df-quickchart {\n",
              "      --bg-color: #E8F0FE;\n",
              "      --fill-color: #1967D2;\n",
              "      --hover-bg-color: #E2EBFA;\n",
              "      --hover-fill-color: #174EA6;\n",
              "      --disabled-fill-color: #AAA;\n",
              "      --disabled-bg-color: #DDD;\n",
              "  }\n",
              "\n",
              "  [theme=dark] .colab-df-quickchart {\n",
              "      --bg-color: #3B4455;\n",
              "      --fill-color: #D2E3FC;\n",
              "      --hover-bg-color: #434B5C;\n",
              "      --hover-fill-color: #FFFFFF;\n",
              "      --disabled-bg-color: #3B4455;\n",
              "      --disabled-fill-color: #666;\n",
              "  }\n",
              "\n",
              "  .colab-df-quickchart {\n",
              "    background-color: var(--bg-color);\n",
              "    border: none;\n",
              "    border-radius: 50%;\n",
              "    cursor: pointer;\n",
              "    display: none;\n",
              "    fill: var(--fill-color);\n",
              "    height: 32px;\n",
              "    padding: 0;\n",
              "    width: 32px;\n",
              "  }\n",
              "\n",
              "  .colab-df-quickchart:hover {\n",
              "    background-color: var(--hover-bg-color);\n",
              "    box-shadow: 0 1px 2px rgba(60, 64, 67, 0.3), 0 1px 3px 1px rgba(60, 64, 67, 0.15);\n",
              "    fill: var(--button-hover-fill-color);\n",
              "  }\n",
              "\n",
              "  .colab-df-quickchart-complete:disabled,\n",
              "  .colab-df-quickchart-complete:disabled:hover {\n",
              "    background-color: var(--disabled-bg-color);\n",
              "    fill: var(--disabled-fill-color);\n",
              "    box-shadow: none;\n",
              "  }\n",
              "\n",
              "  .colab-df-spinner {\n",
              "    border: 2px solid var(--fill-color);\n",
              "    border-color: transparent;\n",
              "    border-bottom-color: var(--fill-color);\n",
              "    animation:\n",
              "      spin 1s steps(1) infinite;\n",
              "  }\n",
              "\n",
              "  @keyframes spin {\n",
              "    0% {\n",
              "      border-color: transparent;\n",
              "      border-bottom-color: var(--fill-color);\n",
              "      border-left-color: var(--fill-color);\n",
              "    }\n",
              "    20% {\n",
              "      border-color: transparent;\n",
              "      border-left-color: var(--fill-color);\n",
              "      border-top-color: var(--fill-color);\n",
              "    }\n",
              "    30% {\n",
              "      border-color: transparent;\n",
              "      border-left-color: var(--fill-color);\n",
              "      border-top-color: var(--fill-color);\n",
              "      border-right-color: var(--fill-color);\n",
              "    }\n",
              "    40% {\n",
              "      border-color: transparent;\n",
              "      border-right-color: var(--fill-color);\n",
              "      border-top-color: var(--fill-color);\n",
              "    }\n",
              "    60% {\n",
              "      border-color: transparent;\n",
              "      border-right-color: var(--fill-color);\n",
              "    }\n",
              "    80% {\n",
              "      border-color: transparent;\n",
              "      border-right-color: var(--fill-color);\n",
              "      border-bottom-color: var(--fill-color);\n",
              "    }\n",
              "    90% {\n",
              "      border-color: transparent;\n",
              "      border-bottom-color: var(--fill-color);\n",
              "    }\n",
              "  }\n",
              "</style>\n",
              "\n",
              "  <script>\n",
              "    async function quickchart(key) {\n",
              "      const quickchartButtonEl =\n",
              "        document.querySelector('#' + key + ' button');\n",
              "      quickchartButtonEl.disabled = true;  // To prevent multiple clicks.\n",
              "      quickchartButtonEl.classList.add('colab-df-spinner');\n",
              "      try {\n",
              "        const charts = await google.colab.kernel.invokeFunction(\n",
              "            'suggestCharts', [key], {});\n",
              "      } catch (error) {\n",
              "        console.error('Error during call to suggestCharts:', error);\n",
              "      }\n",
              "      quickchartButtonEl.classList.remove('colab-df-spinner');\n",
              "      quickchartButtonEl.classList.add('colab-df-quickchart-complete');\n",
              "    }\n",
              "    (() => {\n",
              "      let quickchartButtonEl =\n",
              "        document.querySelector('#df-34e0a6be-1ab4-4efc-bde2-a11a36a745b4 button');\n",
              "      quickchartButtonEl.style.display =\n",
              "        google.colab.kernel.accessAllowed ? 'block' : 'none';\n",
              "    })();\n",
              "  </script>\n",
              "</div>\n",
              "\n",
              "    </div>\n",
              "  </div>\n"
            ]
          },
          "metadata": {},
          "execution_count": 2
        }
      ]
    },
    {
      "cell_type": "code",
      "source": [
        "df['Species'].value_counts()"
      ],
      "metadata": {
        "colab": {
          "base_uri": "https://localhost:8080/"
        },
        "id": "ilYgsiE-ibdO",
        "outputId": "6204bffd-da3a-42d2-bf57-321e937f4e19"
      },
      "execution_count": null,
      "outputs": [
        {
          "output_type": "execute_result",
          "data": {
            "text/plain": [
              "Iris-setosa        50\n",
              "Iris-versicolor    50\n",
              "Iris-virginica     50\n",
              "Name: Species, dtype: int64"
            ]
          },
          "metadata": {},
          "execution_count": 3
        }
      ]
    },
    {
      "cell_type": "code",
      "source": [
        "df.info()"
      ],
      "metadata": {
        "colab": {
          "base_uri": "https://localhost:8080/"
        },
        "id": "1ZxFCw9TjRRj",
        "outputId": "18669a0f-d837-4fc2-d583-729f7473d849"
      },
      "execution_count": null,
      "outputs": [
        {
          "output_type": "stream",
          "name": "stdout",
          "text": [
            "<class 'pandas.core.frame.DataFrame'>\n",
            "RangeIndex: 150 entries, 0 to 149\n",
            "Data columns (total 6 columns):\n",
            " #   Column         Non-Null Count  Dtype  \n",
            "---  ------         --------------  -----  \n",
            " 0   Id             150 non-null    int64  \n",
            " 1   SepalLengthCm  150 non-null    float64\n",
            " 2   SepalWidthCm   150 non-null    float64\n",
            " 3   PetalLengthCm  150 non-null    float64\n",
            " 4   PetalWidthCm   150 non-null    float64\n",
            " 5   Species        150 non-null    object \n",
            "dtypes: float64(4), int64(1), object(1)\n",
            "memory usage: 7.2+ KB\n"
          ]
        }
      ]
    },
    {
      "cell_type": "code",
      "source": [
        "df.isnull().sum()"
      ],
      "metadata": {
        "colab": {
          "base_uri": "https://localhost:8080/"
        },
        "id": "uk6kDda2ibjO",
        "outputId": "6cb5c373-3634-460e-cdfe-540532ce8bb0"
      },
      "execution_count": null,
      "outputs": [
        {
          "output_type": "execute_result",
          "data": {
            "text/plain": [
              "Id               0\n",
              "SepalLengthCm    0\n",
              "SepalWidthCm     0\n",
              "PetalLengthCm    0\n",
              "PetalWidthCm     0\n",
              "Species          0\n",
              "dtype: int64"
            ]
          },
          "metadata": {},
          "execution_count": 5
        }
      ]
    },
    {
      "cell_type": "code",
      "source": [
        "from sklearn.preprocessing import LabelEncoder\n",
        "le = LabelEncoder()\n",
        "df['Species'] = le.fit_transform(df['Species'])\n",
        "df.head()"
      ],
      "metadata": {
        "colab": {
          "base_uri": "https://localhost:8080/",
          "height": 206
        },
        "id": "mWaI5ptcibrz",
        "outputId": "5dd0ce77-280e-4f14-dd12-cd204f848dfd"
      },
      "execution_count": null,
      "outputs": [
        {
          "output_type": "execute_result",
          "data": {
            "text/plain": [
              "   Id  SepalLengthCm  SepalWidthCm  PetalLengthCm  PetalWidthCm  Species\n",
              "0   1            5.1           3.5            1.4           0.2        0\n",
              "1   2            4.9           3.0            1.4           0.2        0\n",
              "2   3            4.7           3.2            1.3           0.2        0\n",
              "3   4            4.6           3.1            1.5           0.2        0\n",
              "4   5            5.0           3.6            1.4           0.2        0"
            ],
            "text/html": [
              "\n",
              "  <div id=\"df-3da2810f-8a56-4dd8-b0c6-331d4a6f8ea3\" class=\"colab-df-container\">\n",
              "    <div>\n",
              "<style scoped>\n",
              "    .dataframe tbody tr th:only-of-type {\n",
              "        vertical-align: middle;\n",
              "    }\n",
              "\n",
              "    .dataframe tbody tr th {\n",
              "        vertical-align: top;\n",
              "    }\n",
              "\n",
              "    .dataframe thead th {\n",
              "        text-align: right;\n",
              "    }\n",
              "</style>\n",
              "<table border=\"1\" class=\"dataframe\">\n",
              "  <thead>\n",
              "    <tr style=\"text-align: right;\">\n",
              "      <th></th>\n",
              "      <th>Id</th>\n",
              "      <th>SepalLengthCm</th>\n",
              "      <th>SepalWidthCm</th>\n",
              "      <th>PetalLengthCm</th>\n",
              "      <th>PetalWidthCm</th>\n",
              "      <th>Species</th>\n",
              "    </tr>\n",
              "  </thead>\n",
              "  <tbody>\n",
              "    <tr>\n",
              "      <th>0</th>\n",
              "      <td>1</td>\n",
              "      <td>5.1</td>\n",
              "      <td>3.5</td>\n",
              "      <td>1.4</td>\n",
              "      <td>0.2</td>\n",
              "      <td>0</td>\n",
              "    </tr>\n",
              "    <tr>\n",
              "      <th>1</th>\n",
              "      <td>2</td>\n",
              "      <td>4.9</td>\n",
              "      <td>3.0</td>\n",
              "      <td>1.4</td>\n",
              "      <td>0.2</td>\n",
              "      <td>0</td>\n",
              "    </tr>\n",
              "    <tr>\n",
              "      <th>2</th>\n",
              "      <td>3</td>\n",
              "      <td>4.7</td>\n",
              "      <td>3.2</td>\n",
              "      <td>1.3</td>\n",
              "      <td>0.2</td>\n",
              "      <td>0</td>\n",
              "    </tr>\n",
              "    <tr>\n",
              "      <th>3</th>\n",
              "      <td>4</td>\n",
              "      <td>4.6</td>\n",
              "      <td>3.1</td>\n",
              "      <td>1.5</td>\n",
              "      <td>0.2</td>\n",
              "      <td>0</td>\n",
              "    </tr>\n",
              "    <tr>\n",
              "      <th>4</th>\n",
              "      <td>5</td>\n",
              "      <td>5.0</td>\n",
              "      <td>3.6</td>\n",
              "      <td>1.4</td>\n",
              "      <td>0.2</td>\n",
              "      <td>0</td>\n",
              "    </tr>\n",
              "  </tbody>\n",
              "</table>\n",
              "</div>\n",
              "    <div class=\"colab-df-buttons\">\n",
              "\n",
              "  <div class=\"colab-df-container\">\n",
              "    <button class=\"colab-df-convert\" onclick=\"convertToInteractive('df-3da2810f-8a56-4dd8-b0c6-331d4a6f8ea3')\"\n",
              "            title=\"Convert this dataframe to an interactive table.\"\n",
              "            style=\"display:none;\">\n",
              "\n",
              "  <svg xmlns=\"http://www.w3.org/2000/svg\" height=\"24px\" viewBox=\"0 -960 960 960\">\n",
              "    <path d=\"M120-120v-720h720v720H120Zm60-500h600v-160H180v160Zm220 220h160v-160H400v160Zm0 220h160v-160H400v160ZM180-400h160v-160H180v160Zm440 0h160v-160H620v160ZM180-180h160v-160H180v160Zm440 0h160v-160H620v160Z\"/>\n",
              "  </svg>\n",
              "    </button>\n",
              "\n",
              "  <style>\n",
              "    .colab-df-container {\n",
              "      display:flex;\n",
              "      gap: 12px;\n",
              "    }\n",
              "\n",
              "    .colab-df-convert {\n",
              "      background-color: #E8F0FE;\n",
              "      border: none;\n",
              "      border-radius: 50%;\n",
              "      cursor: pointer;\n",
              "      display: none;\n",
              "      fill: #1967D2;\n",
              "      height: 32px;\n",
              "      padding: 0 0 0 0;\n",
              "      width: 32px;\n",
              "    }\n",
              "\n",
              "    .colab-df-convert:hover {\n",
              "      background-color: #E2EBFA;\n",
              "      box-shadow: 0px 1px 2px rgba(60, 64, 67, 0.3), 0px 1px 3px 1px rgba(60, 64, 67, 0.15);\n",
              "      fill: #174EA6;\n",
              "    }\n",
              "\n",
              "    .colab-df-buttons div {\n",
              "      margin-bottom: 4px;\n",
              "    }\n",
              "\n",
              "    [theme=dark] .colab-df-convert {\n",
              "      background-color: #3B4455;\n",
              "      fill: #D2E3FC;\n",
              "    }\n",
              "\n",
              "    [theme=dark] .colab-df-convert:hover {\n",
              "      background-color: #434B5C;\n",
              "      box-shadow: 0px 1px 3px 1px rgba(0, 0, 0, 0.15);\n",
              "      filter: drop-shadow(0px 1px 2px rgba(0, 0, 0, 0.3));\n",
              "      fill: #FFFFFF;\n",
              "    }\n",
              "  </style>\n",
              "\n",
              "    <script>\n",
              "      const buttonEl =\n",
              "        document.querySelector('#df-3da2810f-8a56-4dd8-b0c6-331d4a6f8ea3 button.colab-df-convert');\n",
              "      buttonEl.style.display =\n",
              "        google.colab.kernel.accessAllowed ? 'block' : 'none';\n",
              "\n",
              "      async function convertToInteractive(key) {\n",
              "        const element = document.querySelector('#df-3da2810f-8a56-4dd8-b0c6-331d4a6f8ea3');\n",
              "        const dataTable =\n",
              "          await google.colab.kernel.invokeFunction('convertToInteractive',\n",
              "                                                    [key], {});\n",
              "        if (!dataTable) return;\n",
              "\n",
              "        const docLinkHtml = 'Like what you see? Visit the ' +\n",
              "          '<a target=\"_blank\" href=https://colab.research.google.com/notebooks/data_table.ipynb>data table notebook</a>'\n",
              "          + ' to learn more about interactive tables.';\n",
              "        element.innerHTML = '';\n",
              "        dataTable['output_type'] = 'display_data';\n",
              "        await google.colab.output.renderOutput(dataTable, element);\n",
              "        const docLink = document.createElement('div');\n",
              "        docLink.innerHTML = docLinkHtml;\n",
              "        element.appendChild(docLink);\n",
              "      }\n",
              "    </script>\n",
              "  </div>\n",
              "\n",
              "\n",
              "<div id=\"df-2a451f0d-41a9-4f37-b700-9e45a732a54e\">\n",
              "  <button class=\"colab-df-quickchart\" onclick=\"quickchart('df-2a451f0d-41a9-4f37-b700-9e45a732a54e')\"\n",
              "            title=\"Suggest charts\"\n",
              "            style=\"display:none;\">\n",
              "\n",
              "<svg xmlns=\"http://www.w3.org/2000/svg\" height=\"24px\"viewBox=\"0 0 24 24\"\n",
              "     width=\"24px\">\n",
              "    <g>\n",
              "        <path d=\"M19 3H5c-1.1 0-2 .9-2 2v14c0 1.1.9 2 2 2h14c1.1 0 2-.9 2-2V5c0-1.1-.9-2-2-2zM9 17H7v-7h2v7zm4 0h-2V7h2v10zm4 0h-2v-4h2v4z\"/>\n",
              "    </g>\n",
              "</svg>\n",
              "  </button>\n",
              "\n",
              "<style>\n",
              "  .colab-df-quickchart {\n",
              "      --bg-color: #E8F0FE;\n",
              "      --fill-color: #1967D2;\n",
              "      --hover-bg-color: #E2EBFA;\n",
              "      --hover-fill-color: #174EA6;\n",
              "      --disabled-fill-color: #AAA;\n",
              "      --disabled-bg-color: #DDD;\n",
              "  }\n",
              "\n",
              "  [theme=dark] .colab-df-quickchart {\n",
              "      --bg-color: #3B4455;\n",
              "      --fill-color: #D2E3FC;\n",
              "      --hover-bg-color: #434B5C;\n",
              "      --hover-fill-color: #FFFFFF;\n",
              "      --disabled-bg-color: #3B4455;\n",
              "      --disabled-fill-color: #666;\n",
              "  }\n",
              "\n",
              "  .colab-df-quickchart {\n",
              "    background-color: var(--bg-color);\n",
              "    border: none;\n",
              "    border-radius: 50%;\n",
              "    cursor: pointer;\n",
              "    display: none;\n",
              "    fill: var(--fill-color);\n",
              "    height: 32px;\n",
              "    padding: 0;\n",
              "    width: 32px;\n",
              "  }\n",
              "\n",
              "  .colab-df-quickchart:hover {\n",
              "    background-color: var(--hover-bg-color);\n",
              "    box-shadow: 0 1px 2px rgba(60, 64, 67, 0.3), 0 1px 3px 1px rgba(60, 64, 67, 0.15);\n",
              "    fill: var(--button-hover-fill-color);\n",
              "  }\n",
              "\n",
              "  .colab-df-quickchart-complete:disabled,\n",
              "  .colab-df-quickchart-complete:disabled:hover {\n",
              "    background-color: var(--disabled-bg-color);\n",
              "    fill: var(--disabled-fill-color);\n",
              "    box-shadow: none;\n",
              "  }\n",
              "\n",
              "  .colab-df-spinner {\n",
              "    border: 2px solid var(--fill-color);\n",
              "    border-color: transparent;\n",
              "    border-bottom-color: var(--fill-color);\n",
              "    animation:\n",
              "      spin 1s steps(1) infinite;\n",
              "  }\n",
              "\n",
              "  @keyframes spin {\n",
              "    0% {\n",
              "      border-color: transparent;\n",
              "      border-bottom-color: var(--fill-color);\n",
              "      border-left-color: var(--fill-color);\n",
              "    }\n",
              "    20% {\n",
              "      border-color: transparent;\n",
              "      border-left-color: var(--fill-color);\n",
              "      border-top-color: var(--fill-color);\n",
              "    }\n",
              "    30% {\n",
              "      border-color: transparent;\n",
              "      border-left-color: var(--fill-color);\n",
              "      border-top-color: var(--fill-color);\n",
              "      border-right-color: var(--fill-color);\n",
              "    }\n",
              "    40% {\n",
              "      border-color: transparent;\n",
              "      border-right-color: var(--fill-color);\n",
              "      border-top-color: var(--fill-color);\n",
              "    }\n",
              "    60% {\n",
              "      border-color: transparent;\n",
              "      border-right-color: var(--fill-color);\n",
              "    }\n",
              "    80% {\n",
              "      border-color: transparent;\n",
              "      border-right-color: var(--fill-color);\n",
              "      border-bottom-color: var(--fill-color);\n",
              "    }\n",
              "    90% {\n",
              "      border-color: transparent;\n",
              "      border-bottom-color: var(--fill-color);\n",
              "    }\n",
              "  }\n",
              "</style>\n",
              "\n",
              "  <script>\n",
              "    async function quickchart(key) {\n",
              "      const quickchartButtonEl =\n",
              "        document.querySelector('#' + key + ' button');\n",
              "      quickchartButtonEl.disabled = true;  // To prevent multiple clicks.\n",
              "      quickchartButtonEl.classList.add('colab-df-spinner');\n",
              "      try {\n",
              "        const charts = await google.colab.kernel.invokeFunction(\n",
              "            'suggestCharts', [key], {});\n",
              "      } catch (error) {\n",
              "        console.error('Error during call to suggestCharts:', error);\n",
              "      }\n",
              "      quickchartButtonEl.classList.remove('colab-df-spinner');\n",
              "      quickchartButtonEl.classList.add('colab-df-quickchart-complete');\n",
              "    }\n",
              "    (() => {\n",
              "      let quickchartButtonEl =\n",
              "        document.querySelector('#df-2a451f0d-41a9-4f37-b700-9e45a732a54e button');\n",
              "      quickchartButtonEl.style.display =\n",
              "        google.colab.kernel.accessAllowed ? 'block' : 'none';\n",
              "    })();\n",
              "  </script>\n",
              "</div>\n",
              "\n",
              "    </div>\n",
              "  </div>\n"
            ]
          },
          "metadata": {},
          "execution_count": 6
        }
      ]
    },
    {
      "cell_type": "code",
      "source": [
        "species_name = le.classes_\n",
        "print(species_name)"
      ],
      "metadata": {
        "colab": {
          "base_uri": "https://localhost:8080/"
        },
        "id": "LfTrTiLJnsKT",
        "outputId": "c6282e4a-7b0c-4296-aae0-3cfaea4492ca"
      },
      "execution_count": null,
      "outputs": [
        {
          "output_type": "stream",
          "name": "stdout",
          "text": [
            "['Iris-setosa' 'Iris-versicolor' 'Iris-virginica']\n"
          ]
        }
      ]
    },
    {
      "cell_type": "code",
      "source": [
        "X = df.drop(columns=['Id','Species'])\n",
        "y = df['Species']\n",
        "X.head(3)"
      ],
      "metadata": {
        "colab": {
          "base_uri": "https://localhost:8080/",
          "height": 143
        },
        "id": "N2idPNsYnsXI",
        "outputId": "fb4a817d-9b1b-4392-ac03-214f3bf52aa9"
      },
      "execution_count": null,
      "outputs": [
        {
          "output_type": "execute_result",
          "data": {
            "text/plain": [
              "   SepalLengthCm  SepalWidthCm  PetalLengthCm  PetalWidthCm\n",
              "0            5.1           3.5            1.4           0.2\n",
              "1            4.9           3.0            1.4           0.2\n",
              "2            4.7           3.2            1.3           0.2"
            ],
            "text/html": [
              "\n",
              "  <div id=\"df-9a4e532c-3b63-44b9-8012-30f0be793666\" class=\"colab-df-container\">\n",
              "    <div>\n",
              "<style scoped>\n",
              "    .dataframe tbody tr th:only-of-type {\n",
              "        vertical-align: middle;\n",
              "    }\n",
              "\n",
              "    .dataframe tbody tr th {\n",
              "        vertical-align: top;\n",
              "    }\n",
              "\n",
              "    .dataframe thead th {\n",
              "        text-align: right;\n",
              "    }\n",
              "</style>\n",
              "<table border=\"1\" class=\"dataframe\">\n",
              "  <thead>\n",
              "    <tr style=\"text-align: right;\">\n",
              "      <th></th>\n",
              "      <th>SepalLengthCm</th>\n",
              "      <th>SepalWidthCm</th>\n",
              "      <th>PetalLengthCm</th>\n",
              "      <th>PetalWidthCm</th>\n",
              "    </tr>\n",
              "  </thead>\n",
              "  <tbody>\n",
              "    <tr>\n",
              "      <th>0</th>\n",
              "      <td>5.1</td>\n",
              "      <td>3.5</td>\n",
              "      <td>1.4</td>\n",
              "      <td>0.2</td>\n",
              "    </tr>\n",
              "    <tr>\n",
              "      <th>1</th>\n",
              "      <td>4.9</td>\n",
              "      <td>3.0</td>\n",
              "      <td>1.4</td>\n",
              "      <td>0.2</td>\n",
              "    </tr>\n",
              "    <tr>\n",
              "      <th>2</th>\n",
              "      <td>4.7</td>\n",
              "      <td>3.2</td>\n",
              "      <td>1.3</td>\n",
              "      <td>0.2</td>\n",
              "    </tr>\n",
              "  </tbody>\n",
              "</table>\n",
              "</div>\n",
              "    <div class=\"colab-df-buttons\">\n",
              "\n",
              "  <div class=\"colab-df-container\">\n",
              "    <button class=\"colab-df-convert\" onclick=\"convertToInteractive('df-9a4e532c-3b63-44b9-8012-30f0be793666')\"\n",
              "            title=\"Convert this dataframe to an interactive table.\"\n",
              "            style=\"display:none;\">\n",
              "\n",
              "  <svg xmlns=\"http://www.w3.org/2000/svg\" height=\"24px\" viewBox=\"0 -960 960 960\">\n",
              "    <path d=\"M120-120v-720h720v720H120Zm60-500h600v-160H180v160Zm220 220h160v-160H400v160Zm0 220h160v-160H400v160ZM180-400h160v-160H180v160Zm440 0h160v-160H620v160ZM180-180h160v-160H180v160Zm440 0h160v-160H620v160Z\"/>\n",
              "  </svg>\n",
              "    </button>\n",
              "\n",
              "  <style>\n",
              "    .colab-df-container {\n",
              "      display:flex;\n",
              "      gap: 12px;\n",
              "    }\n",
              "\n",
              "    .colab-df-convert {\n",
              "      background-color: #E8F0FE;\n",
              "      border: none;\n",
              "      border-radius: 50%;\n",
              "      cursor: pointer;\n",
              "      display: none;\n",
              "      fill: #1967D2;\n",
              "      height: 32px;\n",
              "      padding: 0 0 0 0;\n",
              "      width: 32px;\n",
              "    }\n",
              "\n",
              "    .colab-df-convert:hover {\n",
              "      background-color: #E2EBFA;\n",
              "      box-shadow: 0px 1px 2px rgba(60, 64, 67, 0.3), 0px 1px 3px 1px rgba(60, 64, 67, 0.15);\n",
              "      fill: #174EA6;\n",
              "    }\n",
              "\n",
              "    .colab-df-buttons div {\n",
              "      margin-bottom: 4px;\n",
              "    }\n",
              "\n",
              "    [theme=dark] .colab-df-convert {\n",
              "      background-color: #3B4455;\n",
              "      fill: #D2E3FC;\n",
              "    }\n",
              "\n",
              "    [theme=dark] .colab-df-convert:hover {\n",
              "      background-color: #434B5C;\n",
              "      box-shadow: 0px 1px 3px 1px rgba(0, 0, 0, 0.15);\n",
              "      filter: drop-shadow(0px 1px 2px rgba(0, 0, 0, 0.3));\n",
              "      fill: #FFFFFF;\n",
              "    }\n",
              "  </style>\n",
              "\n",
              "    <script>\n",
              "      const buttonEl =\n",
              "        document.querySelector('#df-9a4e532c-3b63-44b9-8012-30f0be793666 button.colab-df-convert');\n",
              "      buttonEl.style.display =\n",
              "        google.colab.kernel.accessAllowed ? 'block' : 'none';\n",
              "\n",
              "      async function convertToInteractive(key) {\n",
              "        const element = document.querySelector('#df-9a4e532c-3b63-44b9-8012-30f0be793666');\n",
              "        const dataTable =\n",
              "          await google.colab.kernel.invokeFunction('convertToInteractive',\n",
              "                                                    [key], {});\n",
              "        if (!dataTable) return;\n",
              "\n",
              "        const docLinkHtml = 'Like what you see? Visit the ' +\n",
              "          '<a target=\"_blank\" href=https://colab.research.google.com/notebooks/data_table.ipynb>data table notebook</a>'\n",
              "          + ' to learn more about interactive tables.';\n",
              "        element.innerHTML = '';\n",
              "        dataTable['output_type'] = 'display_data';\n",
              "        await google.colab.output.renderOutput(dataTable, element);\n",
              "        const docLink = document.createElement('div');\n",
              "        docLink.innerHTML = docLinkHtml;\n",
              "        element.appendChild(docLink);\n",
              "      }\n",
              "    </script>\n",
              "  </div>\n",
              "\n",
              "\n",
              "<div id=\"df-c7dabf9b-c0aa-474c-ae03-88ff501f79cf\">\n",
              "  <button class=\"colab-df-quickchart\" onclick=\"quickchart('df-c7dabf9b-c0aa-474c-ae03-88ff501f79cf')\"\n",
              "            title=\"Suggest charts\"\n",
              "            style=\"display:none;\">\n",
              "\n",
              "<svg xmlns=\"http://www.w3.org/2000/svg\" height=\"24px\"viewBox=\"0 0 24 24\"\n",
              "     width=\"24px\">\n",
              "    <g>\n",
              "        <path d=\"M19 3H5c-1.1 0-2 .9-2 2v14c0 1.1.9 2 2 2h14c1.1 0 2-.9 2-2V5c0-1.1-.9-2-2-2zM9 17H7v-7h2v7zm4 0h-2V7h2v10zm4 0h-2v-4h2v4z\"/>\n",
              "    </g>\n",
              "</svg>\n",
              "  </button>\n",
              "\n",
              "<style>\n",
              "  .colab-df-quickchart {\n",
              "      --bg-color: #E8F0FE;\n",
              "      --fill-color: #1967D2;\n",
              "      --hover-bg-color: #E2EBFA;\n",
              "      --hover-fill-color: #174EA6;\n",
              "      --disabled-fill-color: #AAA;\n",
              "      --disabled-bg-color: #DDD;\n",
              "  }\n",
              "\n",
              "  [theme=dark] .colab-df-quickchart {\n",
              "      --bg-color: #3B4455;\n",
              "      --fill-color: #D2E3FC;\n",
              "      --hover-bg-color: #434B5C;\n",
              "      --hover-fill-color: #FFFFFF;\n",
              "      --disabled-bg-color: #3B4455;\n",
              "      --disabled-fill-color: #666;\n",
              "  }\n",
              "\n",
              "  .colab-df-quickchart {\n",
              "    background-color: var(--bg-color);\n",
              "    border: none;\n",
              "    border-radius: 50%;\n",
              "    cursor: pointer;\n",
              "    display: none;\n",
              "    fill: var(--fill-color);\n",
              "    height: 32px;\n",
              "    padding: 0;\n",
              "    width: 32px;\n",
              "  }\n",
              "\n",
              "  .colab-df-quickchart:hover {\n",
              "    background-color: var(--hover-bg-color);\n",
              "    box-shadow: 0 1px 2px rgba(60, 64, 67, 0.3), 0 1px 3px 1px rgba(60, 64, 67, 0.15);\n",
              "    fill: var(--button-hover-fill-color);\n",
              "  }\n",
              "\n",
              "  .colab-df-quickchart-complete:disabled,\n",
              "  .colab-df-quickchart-complete:disabled:hover {\n",
              "    background-color: var(--disabled-bg-color);\n",
              "    fill: var(--disabled-fill-color);\n",
              "    box-shadow: none;\n",
              "  }\n",
              "\n",
              "  .colab-df-spinner {\n",
              "    border: 2px solid var(--fill-color);\n",
              "    border-color: transparent;\n",
              "    border-bottom-color: var(--fill-color);\n",
              "    animation:\n",
              "      spin 1s steps(1) infinite;\n",
              "  }\n",
              "\n",
              "  @keyframes spin {\n",
              "    0% {\n",
              "      border-color: transparent;\n",
              "      border-bottom-color: var(--fill-color);\n",
              "      border-left-color: var(--fill-color);\n",
              "    }\n",
              "    20% {\n",
              "      border-color: transparent;\n",
              "      border-left-color: var(--fill-color);\n",
              "      border-top-color: var(--fill-color);\n",
              "    }\n",
              "    30% {\n",
              "      border-color: transparent;\n",
              "      border-left-color: var(--fill-color);\n",
              "      border-top-color: var(--fill-color);\n",
              "      border-right-color: var(--fill-color);\n",
              "    }\n",
              "    40% {\n",
              "      border-color: transparent;\n",
              "      border-right-color: var(--fill-color);\n",
              "      border-top-color: var(--fill-color);\n",
              "    }\n",
              "    60% {\n",
              "      border-color: transparent;\n",
              "      border-right-color: var(--fill-color);\n",
              "    }\n",
              "    80% {\n",
              "      border-color: transparent;\n",
              "      border-right-color: var(--fill-color);\n",
              "      border-bottom-color: var(--fill-color);\n",
              "    }\n",
              "    90% {\n",
              "      border-color: transparent;\n",
              "      border-bottom-color: var(--fill-color);\n",
              "    }\n",
              "  }\n",
              "</style>\n",
              "\n",
              "  <script>\n",
              "    async function quickchart(key) {\n",
              "      const quickchartButtonEl =\n",
              "        document.querySelector('#' + key + ' button');\n",
              "      quickchartButtonEl.disabled = true;  // To prevent multiple clicks.\n",
              "      quickchartButtonEl.classList.add('colab-df-spinner');\n",
              "      try {\n",
              "        const charts = await google.colab.kernel.invokeFunction(\n",
              "            'suggestCharts', [key], {});\n",
              "      } catch (error) {\n",
              "        console.error('Error during call to suggestCharts:', error);\n",
              "      }\n",
              "      quickchartButtonEl.classList.remove('colab-df-spinner');\n",
              "      quickchartButtonEl.classList.add('colab-df-quickchart-complete');\n",
              "    }\n",
              "    (() => {\n",
              "      let quickchartButtonEl =\n",
              "        document.querySelector('#df-c7dabf9b-c0aa-474c-ae03-88ff501f79cf button');\n",
              "      quickchartButtonEl.style.display =\n",
              "        google.colab.kernel.accessAllowed ? 'block' : 'none';\n",
              "    })();\n",
              "  </script>\n",
              "</div>\n",
              "\n",
              "    </div>\n",
              "  </div>\n"
            ]
          },
          "metadata": {},
          "execution_count": 8
        }
      ]
    },
    {
      "cell_type": "code",
      "source": [
        "print(y[:5])"
      ],
      "metadata": {
        "colab": {
          "base_uri": "https://localhost:8080/"
        },
        "id": "rNYtNN2lnslG",
        "outputId": "ed2bad61-5f20-4fc0-b9de-53cb10b13f22"
      },
      "execution_count": null,
      "outputs": [
        {
          "output_type": "stream",
          "name": "stdout",
          "text": [
            "0    0\n",
            "1    0\n",
            "2    0\n",
            "3    0\n",
            "4    0\n",
            "Name: Species, dtype: int64\n"
          ]
        }
      ]
    },
    {
      "cell_type": "code",
      "source": [
        "from sklearn.model_selection import train_test_split\n",
        "x_train, x_test, y_train, y_test = train_test_split(X, y, test_size=0.3, shuffle = True, random_state = 69)"
      ],
      "metadata": {
        "id": "R1lXUmIOnsuM"
      },
      "execution_count": null,
      "outputs": []
    },
    {
      "cell_type": "code",
      "source": [
        "x_train.shape"
      ],
      "metadata": {
        "colab": {
          "base_uri": "https://localhost:8080/"
        },
        "id": "Z2sfUp2Tns28",
        "outputId": "1283cafe-dca9-4513-8cd1-d05ff1b05213"
      },
      "execution_count": null,
      "outputs": [
        {
          "output_type": "execute_result",
          "data": {
            "text/plain": [
              "(105, 4)"
            ]
          },
          "metadata": {},
          "execution_count": 11
        }
      ]
    },
    {
      "cell_type": "code",
      "source": [
        "from sklearn.preprocessing  import StandardScaler\n",
        "sc = StandardScaler()\n",
        "x_train = sc.fit_transform(x_train)\n",
        "x_test = sc.fit_transform(x_test)\n",
        "print(x_train[:1])"
      ],
      "metadata": {
        "colab": {
          "base_uri": "https://localhost:8080/"
        },
        "id": "CtFIxPSYns_Z",
        "outputId": "c4c03ff8-bc9b-4761-cac2-d622c0624e39"
      },
      "execution_count": null,
      "outputs": [
        {
          "output_type": "stream",
          "name": "stdout",
          "text": [
            "[[-1.14630942 -1.44374444 -0.25650655 -0.258263  ]]\n"
          ]
        }
      ]
    },
    {
      "cell_type": "code",
      "source": [
        "from keras.utils import to_categorical\n",
        "\n",
        "y_train = to_categorical(y_train, num_classes=3)\n",
        "print(y_train[:5])\n"
      ],
      "metadata": {
        "colab": {
          "base_uri": "https://localhost:8080/"
        },
        "id": "Sx5JBfmDntHo",
        "outputId": "0c12c0c1-6486-4a1b-e465-d6327834eb2b"
      },
      "execution_count": null,
      "outputs": [
        {
          "output_type": "stream",
          "name": "stdout",
          "text": [
            "[[0. 1. 0.]\n",
            " [0. 0. 1.]\n",
            " [0. 1. 0.]\n",
            " [0. 1. 0.]\n",
            " [0. 1. 0.]]\n"
          ]
        }
      ]
    },
    {
      "cell_type": "code",
      "source": [
        "from keras.models import Sequential\n",
        "from keras.layers import Dense, Dropout"
      ],
      "metadata": {
        "id": "ue6OO0TUibzk"
      },
      "execution_count": null,
      "outputs": []
    },
    {
      "cell_type": "code",
      "source": [
        "model = Sequential()\n",
        "model.add(Dense(units = 32, activation='relu', input_shape=(x_train.shape[-1],)))\n",
        "model.add(Dense(units = 32, activation = 'relu'))\n",
        "model.add(Dropout(0.5))\n",
        "model.add(Dense(units = 3, activation = 'softmax'))"
      ],
      "metadata": {
        "id": "_njYV7NjrfCI"
      },
      "execution_count": null,
      "outputs": []
    },
    {
      "cell_type": "code",
      "source": [
        "model.compile(optimizer = 'Adam', loss='categorical_crossentropy', metrics = ['accuracy'])\n",
        "model.summary()"
      ],
      "metadata": {
        "colab": {
          "base_uri": "https://localhost:8080/"
        },
        "id": "AwkXggIArfOe",
        "outputId": "b8b89e44-e137-4a80-d079-aa62cf9f3f98"
      },
      "execution_count": null,
      "outputs": [
        {
          "output_type": "stream",
          "name": "stdout",
          "text": [
            "Model: \"sequential\"\n",
            "_________________________________________________________________\n",
            " Layer (type)                Output Shape              Param #   \n",
            "=================================================================\n",
            " dense (Dense)               (None, 32)                160       \n",
            "                                                                 \n",
            " dense_1 (Dense)             (None, 32)                1056      \n",
            "                                                                 \n",
            " dropout (Dropout)           (None, 32)                0         \n",
            "                                                                 \n",
            " dense_2 (Dense)             (None, 3)                 99        \n",
            "                                                                 \n",
            "=================================================================\n",
            "Total params: 1315 (5.14 KB)\n",
            "Trainable params: 1315 (5.14 KB)\n",
            "Non-trainable params: 0 (0.00 Byte)\n",
            "_________________________________________________________________\n"
          ]
        }
      ]
    },
    {
      "cell_type": "code",
      "source": [
        "model.fit(x_train, y_train, epochs = 100, verbose=2)"
      ],
      "metadata": {
        "colab": {
          "base_uri": "https://localhost:8080/"
        },
        "id": "5bZ8XA6xrfZK",
        "outputId": "ac9b2c61-e1d7-4ded-8896-9b53fc2e810a"
      },
      "execution_count": null,
      "outputs": [
        {
          "output_type": "stream",
          "name": "stdout",
          "text": [
            "Epoch 1/100\n",
            "4/4 - 1s - loss: 1.0879 - accuracy: 0.3810 - 1s/epoch - 343ms/step\n",
            "Epoch 2/100\n",
            "4/4 - 0s - loss: 1.0639 - accuracy: 0.4571 - 28ms/epoch - 7ms/step\n",
            "Epoch 3/100\n",
            "4/4 - 0s - loss: 0.9788 - accuracy: 0.5333 - 31ms/epoch - 8ms/step\n",
            "Epoch 4/100\n",
            "4/4 - 0s - loss: 0.9845 - accuracy: 0.5238 - 22ms/epoch - 5ms/step\n",
            "Epoch 5/100\n",
            "4/4 - 0s - loss: 0.9329 - accuracy: 0.6571 - 21ms/epoch - 5ms/step\n",
            "Epoch 6/100\n",
            "4/4 - 0s - loss: 0.9017 - accuracy: 0.5524 - 19ms/epoch - 5ms/step\n",
            "Epoch 7/100\n",
            "4/4 - 0s - loss: 0.8387 - accuracy: 0.6571 - 22ms/epoch - 6ms/step\n",
            "Epoch 8/100\n",
            "4/4 - 0s - loss: 0.8395 - accuracy: 0.6571 - 21ms/epoch - 5ms/step\n",
            "Epoch 9/100\n",
            "4/4 - 0s - loss: 0.8252 - accuracy: 0.6571 - 23ms/epoch - 6ms/step\n",
            "Epoch 10/100\n",
            "4/4 - 0s - loss: 0.7977 - accuracy: 0.7048 - 22ms/epoch - 6ms/step\n",
            "Epoch 11/100\n",
            "4/4 - 0s - loss: 0.7618 - accuracy: 0.6952 - 22ms/epoch - 6ms/step\n",
            "Epoch 12/100\n",
            "4/4 - 0s - loss: 0.7109 - accuracy: 0.7905 - 21ms/epoch - 5ms/step\n",
            "Epoch 13/100\n",
            "4/4 - 0s - loss: 0.6895 - accuracy: 0.7429 - 20ms/epoch - 5ms/step\n",
            "Epoch 14/100\n",
            "4/4 - 0s - loss: 0.6966 - accuracy: 0.7714 - 22ms/epoch - 5ms/step\n",
            "Epoch 15/100\n",
            "4/4 - 0s - loss: 0.6646 - accuracy: 0.7238 - 25ms/epoch - 6ms/step\n",
            "Epoch 16/100\n",
            "4/4 - 0s - loss: 0.6411 - accuracy: 0.7143 - 21ms/epoch - 5ms/step\n",
            "Epoch 17/100\n",
            "4/4 - 0s - loss: 0.5985 - accuracy: 0.7810 - 25ms/epoch - 6ms/step\n",
            "Epoch 18/100\n",
            "4/4 - 0s - loss: 0.6149 - accuracy: 0.7905 - 24ms/epoch - 6ms/step\n",
            "Epoch 19/100\n",
            "4/4 - 0s - loss: 0.5463 - accuracy: 0.8000 - 25ms/epoch - 6ms/step\n",
            "Epoch 20/100\n",
            "4/4 - 0s - loss: 0.5937 - accuracy: 0.7333 - 26ms/epoch - 7ms/step\n",
            "Epoch 21/100\n",
            "4/4 - 0s - loss: 0.5643 - accuracy: 0.8000 - 21ms/epoch - 5ms/step\n",
            "Epoch 22/100\n",
            "4/4 - 0s - loss: 0.5231 - accuracy: 0.8190 - 19ms/epoch - 5ms/step\n",
            "Epoch 23/100\n",
            "4/4 - 0s - loss: 0.5243 - accuracy: 0.7714 - 17ms/epoch - 4ms/step\n",
            "Epoch 24/100\n",
            "4/4 - 0s - loss: 0.4971 - accuracy: 0.7619 - 13ms/epoch - 3ms/step\n",
            "Epoch 25/100\n",
            "4/4 - 0s - loss: 0.5019 - accuracy: 0.7905 - 15ms/epoch - 4ms/step\n",
            "Epoch 26/100\n",
            "4/4 - 0s - loss: 0.5182 - accuracy: 0.7810 - 16ms/epoch - 4ms/step\n",
            "Epoch 27/100\n",
            "4/4 - 0s - loss: 0.5016 - accuracy: 0.7905 - 15ms/epoch - 4ms/step\n",
            "Epoch 28/100\n",
            "4/4 - 0s - loss: 0.4696 - accuracy: 0.8667 - 17ms/epoch - 4ms/step\n",
            "Epoch 29/100\n",
            "4/4 - 0s - loss: 0.4688 - accuracy: 0.8000 - 16ms/epoch - 4ms/step\n",
            "Epoch 30/100\n",
            "4/4 - 0s - loss: 0.4523 - accuracy: 0.8095 - 17ms/epoch - 4ms/step\n",
            "Epoch 31/100\n",
            "4/4 - 0s - loss: 0.4543 - accuracy: 0.7905 - 16ms/epoch - 4ms/step\n",
            "Epoch 32/100\n",
            "4/4 - 0s - loss: 0.4387 - accuracy: 0.8000 - 17ms/epoch - 4ms/step\n",
            "Epoch 33/100\n",
            "4/4 - 0s - loss: 0.4330 - accuracy: 0.8286 - 16ms/epoch - 4ms/step\n",
            "Epoch 34/100\n",
            "4/4 - 0s - loss: 0.4456 - accuracy: 0.7810 - 18ms/epoch - 4ms/step\n",
            "Epoch 35/100\n",
            "4/4 - 0s - loss: 0.4113 - accuracy: 0.8762 - 17ms/epoch - 4ms/step\n",
            "Epoch 36/100\n",
            "4/4 - 0s - loss: 0.4119 - accuracy: 0.8476 - 15ms/epoch - 4ms/step\n",
            "Epoch 37/100\n",
            "4/4 - 0s - loss: 0.3882 - accuracy: 0.8381 - 15ms/epoch - 4ms/step\n",
            "Epoch 38/100\n",
            "4/4 - 0s - loss: 0.4433 - accuracy: 0.8190 - 15ms/epoch - 4ms/step\n",
            "Epoch 39/100\n",
            "4/4 - 0s - loss: 0.4213 - accuracy: 0.8286 - 14ms/epoch - 3ms/step\n",
            "Epoch 40/100\n",
            "4/4 - 0s - loss: 0.3768 - accuracy: 0.8571 - 13ms/epoch - 3ms/step\n",
            "Epoch 41/100\n",
            "4/4 - 0s - loss: 0.3805 - accuracy: 0.8286 - 14ms/epoch - 3ms/step\n",
            "Epoch 42/100\n",
            "4/4 - 0s - loss: 0.3879 - accuracy: 0.8571 - 16ms/epoch - 4ms/step\n",
            "Epoch 43/100\n",
            "4/4 - 0s - loss: 0.3950 - accuracy: 0.8476 - 14ms/epoch - 4ms/step\n",
            "Epoch 44/100\n",
            "4/4 - 0s - loss: 0.3781 - accuracy: 0.8476 - 16ms/epoch - 4ms/step\n",
            "Epoch 45/100\n",
            "4/4 - 0s - loss: 0.3548 - accuracy: 0.8571 - 16ms/epoch - 4ms/step\n",
            "Epoch 46/100\n",
            "4/4 - 0s - loss: 0.3884 - accuracy: 0.8571 - 14ms/epoch - 4ms/step\n",
            "Epoch 47/100\n",
            "4/4 - 0s - loss: 0.3384 - accuracy: 0.8667 - 14ms/epoch - 3ms/step\n",
            "Epoch 48/100\n",
            "4/4 - 0s - loss: 0.3348 - accuracy: 0.8857 - 16ms/epoch - 4ms/step\n",
            "Epoch 49/100\n",
            "4/4 - 0s - loss: 0.3420 - accuracy: 0.8952 - 14ms/epoch - 3ms/step\n",
            "Epoch 50/100\n",
            "4/4 - 0s - loss: 0.3772 - accuracy: 0.8286 - 15ms/epoch - 4ms/step\n",
            "Epoch 51/100\n",
            "4/4 - 0s - loss: 0.3503 - accuracy: 0.8286 - 15ms/epoch - 4ms/step\n",
            "Epoch 52/100\n",
            "4/4 - 0s - loss: 0.3424 - accuracy: 0.8571 - 19ms/epoch - 5ms/step\n",
            "Epoch 53/100\n",
            "4/4 - 0s - loss: 0.3544 - accuracy: 0.8667 - 16ms/epoch - 4ms/step\n",
            "Epoch 54/100\n",
            "4/4 - 0s - loss: 0.3745 - accuracy: 0.8667 - 15ms/epoch - 4ms/step\n",
            "Epoch 55/100\n",
            "4/4 - 0s - loss: 0.3035 - accuracy: 0.8857 - 16ms/epoch - 4ms/step\n",
            "Epoch 56/100\n",
            "4/4 - 0s - loss: 0.3319 - accuracy: 0.8762 - 16ms/epoch - 4ms/step\n",
            "Epoch 57/100\n",
            "4/4 - 0s - loss: 0.3083 - accuracy: 0.8857 - 18ms/epoch - 4ms/step\n",
            "Epoch 58/100\n",
            "4/4 - 0s - loss: 0.3476 - accuracy: 0.8571 - 15ms/epoch - 4ms/step\n",
            "Epoch 59/100\n",
            "4/4 - 0s - loss: 0.3216 - accuracy: 0.8857 - 15ms/epoch - 4ms/step\n",
            "Epoch 60/100\n",
            "4/4 - 0s - loss: 0.2998 - accuracy: 0.9238 - 16ms/epoch - 4ms/step\n",
            "Epoch 61/100\n",
            "4/4 - 0s - loss: 0.2981 - accuracy: 0.8762 - 15ms/epoch - 4ms/step\n",
            "Epoch 62/100\n",
            "4/4 - 0s - loss: 0.3105 - accuracy: 0.8952 - 15ms/epoch - 4ms/step\n",
            "Epoch 63/100\n",
            "4/4 - 0s - loss: 0.2711 - accuracy: 0.8952 - 13ms/epoch - 3ms/step\n",
            "Epoch 64/100\n",
            "4/4 - 0s - loss: 0.3012 - accuracy: 0.8571 - 16ms/epoch - 4ms/step\n",
            "Epoch 65/100\n",
            "4/4 - 0s - loss: 0.3039 - accuracy: 0.8571 - 15ms/epoch - 4ms/step\n",
            "Epoch 66/100\n",
            "4/4 - 0s - loss: 0.3075 - accuracy: 0.8667 - 17ms/epoch - 4ms/step\n",
            "Epoch 67/100\n",
            "4/4 - 0s - loss: 0.2729 - accuracy: 0.8762 - 15ms/epoch - 4ms/step\n",
            "Epoch 68/100\n",
            "4/4 - 0s - loss: 0.2682 - accuracy: 0.8762 - 17ms/epoch - 4ms/step\n",
            "Epoch 69/100\n",
            "4/4 - 0s - loss: 0.2513 - accuracy: 0.8952 - 15ms/epoch - 4ms/step\n",
            "Epoch 70/100\n",
            "4/4 - 0s - loss: 0.2700 - accuracy: 0.9238 - 14ms/epoch - 4ms/step\n",
            "Epoch 71/100\n",
            "4/4 - 0s - loss: 0.2675 - accuracy: 0.9238 - 15ms/epoch - 4ms/step\n",
            "Epoch 72/100\n",
            "4/4 - 0s - loss: 0.2837 - accuracy: 0.9143 - 14ms/epoch - 4ms/step\n",
            "Epoch 73/100\n",
            "4/4 - 0s - loss: 0.2449 - accuracy: 0.9333 - 13ms/epoch - 3ms/step\n",
            "Epoch 74/100\n",
            "4/4 - 0s - loss: 0.2314 - accuracy: 0.9333 - 14ms/epoch - 3ms/step\n",
            "Epoch 75/100\n",
            "4/4 - 0s - loss: 0.2262 - accuracy: 0.9524 - 15ms/epoch - 4ms/step\n",
            "Epoch 76/100\n",
            "4/4 - 0s - loss: 0.2295 - accuracy: 0.9238 - 14ms/epoch - 3ms/step\n",
            "Epoch 77/100\n",
            "4/4 - 0s - loss: 0.2256 - accuracy: 0.9429 - 14ms/epoch - 3ms/step\n",
            "Epoch 78/100\n",
            "4/4 - 0s - loss: 0.2284 - accuracy: 0.9333 - 13ms/epoch - 3ms/step\n",
            "Epoch 79/100\n",
            "4/4 - 0s - loss: 0.2648 - accuracy: 0.9238 - 14ms/epoch - 4ms/step\n",
            "Epoch 80/100\n",
            "4/4 - 0s - loss: 0.1915 - accuracy: 0.9619 - 14ms/epoch - 4ms/step\n",
            "Epoch 81/100\n",
            "4/4 - 0s - loss: 0.2387 - accuracy: 0.9238 - 17ms/epoch - 4ms/step\n",
            "Epoch 82/100\n",
            "4/4 - 0s - loss: 0.2251 - accuracy: 0.9238 - 14ms/epoch - 4ms/step\n",
            "Epoch 83/100\n",
            "4/4 - 0s - loss: 0.2264 - accuracy: 0.9143 - 16ms/epoch - 4ms/step\n",
            "Epoch 84/100\n",
            "4/4 - 0s - loss: 0.2182 - accuracy: 0.9143 - 16ms/epoch - 4ms/step\n",
            "Epoch 85/100\n",
            "4/4 - 0s - loss: 0.1848 - accuracy: 0.9333 - 15ms/epoch - 4ms/step\n",
            "Epoch 86/100\n",
            "4/4 - 0s - loss: 0.1880 - accuracy: 0.9619 - 18ms/epoch - 4ms/step\n",
            "Epoch 87/100\n",
            "4/4 - 0s - loss: 0.2025 - accuracy: 0.9333 - 20ms/epoch - 5ms/step\n",
            "Epoch 88/100\n",
            "4/4 - 0s - loss: 0.2018 - accuracy: 0.9333 - 22ms/epoch - 5ms/step\n",
            "Epoch 89/100\n",
            "4/4 - 0s - loss: 0.2083 - accuracy: 0.9048 - 14ms/epoch - 4ms/step\n",
            "Epoch 90/100\n",
            "4/4 - 0s - loss: 0.2055 - accuracy: 0.9429 - 15ms/epoch - 4ms/step\n",
            "Epoch 91/100\n",
            "4/4 - 0s - loss: 0.1811 - accuracy: 0.9429 - 14ms/epoch - 3ms/step\n",
            "Epoch 92/100\n",
            "4/4 - 0s - loss: 0.1749 - accuracy: 0.9524 - 16ms/epoch - 4ms/step\n",
            "Epoch 93/100\n",
            "4/4 - 0s - loss: 0.1687 - accuracy: 0.9619 - 20ms/epoch - 5ms/step\n",
            "Epoch 94/100\n",
            "4/4 - 0s - loss: 0.1985 - accuracy: 0.9238 - 19ms/epoch - 5ms/step\n",
            "Epoch 95/100\n",
            "4/4 - 0s - loss: 0.1869 - accuracy: 0.9429 - 15ms/epoch - 4ms/step\n",
            "Epoch 96/100\n",
            "4/4 - 0s - loss: 0.1836 - accuracy: 0.9238 - 16ms/epoch - 4ms/step\n",
            "Epoch 97/100\n",
            "4/4 - 0s - loss: 0.1864 - accuracy: 0.9333 - 15ms/epoch - 4ms/step\n",
            "Epoch 98/100\n",
            "4/4 - 0s - loss: 0.1932 - accuracy: 0.9524 - 14ms/epoch - 4ms/step\n",
            "Epoch 99/100\n",
            "4/4 - 0s - loss: 0.1736 - accuracy: 0.9524 - 14ms/epoch - 4ms/step\n",
            "Epoch 100/100\n",
            "4/4 - 0s - loss: 0.1782 - accuracy: 0.9333 - 14ms/epoch - 3ms/step\n"
          ]
        },
        {
          "output_type": "execute_result",
          "data": {
            "text/plain": [
              "<keras.src.callbacks.History at 0x7d31f45e8850>"
            ]
          },
          "metadata": {},
          "execution_count": 17
        }
      ]
    },
    {
      "cell_type": "code",
      "source": [
        "prediction = model.predict(x_test)\n",
        "print(prediction[:5])"
      ],
      "metadata": {
        "colab": {
          "base_uri": "https://localhost:8080/"
        },
        "id": "2Gz-_rw0ib6r",
        "outputId": "f0db5b73-7cf2-4fd7-ecbd-a92b5882baed"
      },
      "execution_count": null,
      "outputs": [
        {
          "output_type": "stream",
          "name": "stdout",
          "text": [
            "2/2 [==============================] - 0s 6ms/step\n",
            "[[9.9969649e-01 3.0285018e-04 7.5434986e-07]\n",
            " [3.5297957e-03 9.3310893e-01 6.3361160e-02]\n",
            " [9.9848688e-01 1.5067250e-03 6.2893855e-06]\n",
            " [1.6737082e-04 3.4885753e-02 9.6494681e-01]\n",
            " [9.9782056e-01 2.1671094e-03 1.2339541e-05]]\n"
          ]
        }
      ]
    },
    {
      "cell_type": "code",
      "source": [
        "prediction = np.argmax(prediction, axis=-1)\n",
        "print(prediction)\n",
        "# print(type(prediction))\n"
      ],
      "metadata": {
        "colab": {
          "base_uri": "https://localhost:8080/"
        },
        "id": "JDTFa8iyicB7",
        "outputId": "e47f5568-c788-4dbd-c8f1-a06b9821e40d"
      },
      "execution_count": null,
      "outputs": [
        {
          "output_type": "stream",
          "name": "stdout",
          "text": [
            "[0 1 0 2 0 0 1 2 1 0 1 2 0 1 2 1 1 2 1 2 2 1 0 0 2 0 2 2 1 0 0 0 0 2 2 2 0\n",
            " 1 1 2 0 2 1 0 1]\n"
          ]
        }
      ]
    },
    {
      "cell_type": "code",
      "source": [
        "print(y_test[:5])"
      ],
      "metadata": {
        "colab": {
          "base_uri": "https://localhost:8080/"
        },
        "id": "s2MBPfWVyENg",
        "outputId": "810bcb02-a3c2-46e1-ddec-27ee94802606"
      },
      "execution_count": null,
      "outputs": [
        {
          "output_type": "stream",
          "name": "stdout",
          "text": [
            "4      0\n",
            "58     1\n",
            "20     0\n",
            "114    2\n",
            "31     0\n",
            "Name: Species, dtype: int64\n"
          ]
        }
      ]
    },
    {
      "cell_type": "code",
      "source": [
        "from sklearn.metrics import accuracy_score, confusion_matrix\n",
        "print(accuracy_score(y_test, prediction))"
      ],
      "metadata": {
        "colab": {
          "base_uri": "https://localhost:8080/"
        },
        "id": "C_dLLW5fyEWi",
        "outputId": "8011c73c-4898-4ad3-e697-3595b1cc4b1e"
      },
      "execution_count": null,
      "outputs": [
        {
          "output_type": "stream",
          "name": "stdout",
          "text": [
            "0.9555555555555556\n"
          ]
        }
      ]
    },
    {
      "cell_type": "code",
      "source": [
        "cm = confusion_matrix(y_test, prediction)\n",
        "print(cm)"
      ],
      "metadata": {
        "id": "WxkiQKZgyEhJ",
        "colab": {
          "base_uri": "https://localhost:8080/"
        },
        "outputId": "d16ca487-42c1-4c97-9a2b-40754b08e626"
      },
      "execution_count": null,
      "outputs": [
        {
          "output_type": "stream",
          "name": "stdout",
          "text": [
            "[[16  0  0]\n",
            " [ 0 12  0]\n",
            " [ 0  2 15]]\n"
          ]
        }
      ]
    },
    {
      "cell_type": "code",
      "source": [
        "ax = sns.heatmap(cm, annot=True, fmt='d', cmap='Greens', xticklabels=species_name,yticklabels=species_name)\n",
        "ax.set_title('Confusion matrix for Iris dataset')\n",
        "ax.set_xlabel('prediction', fontsize='14')\n",
        "ax.set_ylabel('actual', fontsize='14')"
      ],
      "metadata": {
        "id": "ipTeHgOoyEqI",
        "colab": {
          "base_uri": "https://localhost:8080/",
          "height": 494
        },
        "outputId": "e4194f2b-1257-4d28-f152-f59e2203f17b"
      },
      "execution_count": null,
      "outputs": [
        {
          "output_type": "execute_result",
          "data": {
            "text/plain": [
              "Text(50.72222222222221, 0.5, 'actual')"
            ]
          },
          "metadata": {},
          "execution_count": 32
        },
        {
          "output_type": "display_data",
          "data": {
            "text/plain": [
              "<Figure size 640x480 with 2 Axes>"
            ],
            "image/png": "[encoded data removed]"
          },
          "metadata": {}
        }
      ]
    },
    {
      "cell_type": "code",
      "source": [],
      "metadata": {
        "id": "oNzjuw-dyExr"
      },
      "execution_count": null,
      "outputs": []
    },
    {
      "cell_type": "code",
      "source": [],
      "metadata": {
        "id": "S9oyTWU4yE4Q"
      },
      "execution_count": null,
      "outputs": []
    },
    {
      "cell_type": "code",
      "source": [],
      "metadata": {
        "id": "k9jjDm9wyFAi"
      },
      "execution_count": null,
      "outputs": []
    },
    {
      "cell_type": "code",
      "source": [],
      "metadata": {
        "id": "CmmK9yg3yFHw"
      },
      "execution_count": null,
      "outputs": []
    }
  ]
}